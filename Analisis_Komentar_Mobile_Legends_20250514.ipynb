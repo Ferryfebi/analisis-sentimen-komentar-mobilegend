{
 "cells": [
  {
   "cell_type": "markdown",
   "id": "1d3fc3fa",
   "metadata": {},
   "source": [
    "# 📱 Analisis Komentar Aplikasi Mobile Legends: Bang Bang\n",
    "Analisis ini mencakup:\n",
    "- Scraping komentar dari Google Play\n",
    "- Preprocessing teks\n",
    "- Analisis sentimen\n",
    "- Clustering (unsupervised)\n",
    "- Visualisasi dan pelabelan cluster"
   ]
  },
  {
   "cell_type": "code",
   "execution_count": null,
   "id": "e2ca7573",
   "metadata": {},
   "outputs": [],
   "source": [
    "!pip install google-play-scraper\n",
    "!pip install pandas matplotlib seaborn wordcloud nltk scikit-learn"
   ]
  },
  {
   "cell_type": "code",
   "execution_count": null,
   "id": "c1771adf",
   "metadata": {},
   "outputs": [],
   "source": [
    "from google_play_scraper import reviews, Sort\n",
    "import pandas as pd\n",
    "\n",
    "# Ambil komentar\n",
    "result, _ = reviews(\n",
    "    'com.mobile.legends',\n",
    "    lang='id', country='id', sort=Sort.NEWEST, count=200\n",
    ")\n",
    "\n",
    "df = pd.DataFrame(result)[['userName', 'score', 'content']]\n",
    "df.head()"
   ]
  },
  {
   "cell_type": "code",
   "execution_count": null,
   "id": "adad36d2",
   "metadata": {},
   "outputs": [],
   "source": [
    "import re\n",
    "import nltk\n",
    "nltk.download('stopwords')\n",
    "from nltk.corpus import stopwords\n",
    "\n",
    "stop_words = set(stopwords.words('indonesian'))\n",
    "\n",
    "def clean_text(text):\n",
    "    text = text.lower()\n",
    "    text = re.sub(r'[^a-zA-Z\\s]', '', text)\n",
    "    return ' '.join([w for w in text.split() if w not in stop_words])\n",
    "\n",
    "df['clean_content'] = df['content'].apply(clean_text)\n",
    "df.head()"
   ]
  },
  {
   "cell_type": "code",
   "execution_count": null,
   "id": "86003914",
   "metadata": {},
   "outputs": [],
   "source": [
    "# Label sentimen dari skor\n",
    "def label_sentiment(score):\n",
    "    if score >= 4:\n",
    "        return 'positif'\n",
    "    elif score == 3:\n",
    "        return 'netral'\n",
    "    else:\n",
    "        return 'negatif'\n",
    "\n",
    "df['sentiment'] = df['score'].apply(label_sentiment)\n",
    "df['sentiment'].value_counts().plot(kind='bar', title='Distribusi Sentimen')"
   ]
  },
  {
   "cell_type": "code",
   "execution_count": null,
   "id": "2c6e3f14",
   "metadata": {},
   "outputs": [],
   "source": [
    "from wordcloud import WordCloud\n",
    "import matplotlib.pyplot as plt\n",
    "\n",
    "text = ' '.join(df['clean_content'])\n",
    "wordcloud = WordCloud(width=800, height=400, background_color='white').generate(text)\n",
    "\n",
    "plt.figure(figsize=(10, 5))\n",
    "plt.imshow(wordcloud, interpolation='bilinear')\n",
    "plt.axis('off')\n",
    "plt.title('Wordcloud Komentar Mobile Legends')\n",
    "plt.show()"
   ]
  },
  {
   "cell_type": "code",
   "execution_count": null,
   "id": "bb51fc75",
   "metadata": {},
   "outputs": [],
   "source": [
    "# TF-IDF dan klasifikasi\n",
    "from sklearn.feature_extraction.text import TfidfVectorizer\n",
    "from sklearn.model_selection import train_test_split\n",
    "from sklearn.naive_bayes import MultinomialNB\n",
    "from sklearn.linear_model import LogisticRegression\n",
    "from sklearn.ensemble import RandomForestClassifier\n",
    "from sklearn.metrics import classification_report, accuracy_score\n",
    "\n",
    "tfidf = TfidfVectorizer(max_features=1000)\n",
    "X = tfidf.fit_transform(df['clean_content'])\n",
    "y = df['sentiment']\n",
    "\n",
    "X_train, X_test, y_train, y_test = train_test_split(X, y, test_size=0.2, random_state=42)\n",
    "\n",
    "models = {\n",
    "    \"Naive Bayes\": MultinomialNB(),\n",
    "    \"Logistic Regression\": LogisticRegression(max_iter=200),\n",
    "    \"Random Forest\": RandomForestClassifier()\n",
    "}\n",
    "\n",
    "for name, model in models.items():\n",
    "    model.fit(X_train, y_train)\n",
    "    preds = model.predict(X_test)\n",
    "    print(f\"\\nModel: {name}\")\n",
    "    print(\"Akurasi:\", accuracy_score(y_test, preds))\n",
    "    print(classification_report(y_test, preds))"
   ]
  },
  {
   "cell_type": "code",
   "execution_count": null,
   "id": "7d346ec9",
   "metadata": {},
   "outputs": [],
   "source": [
    "# Clustering K-Means\n",
    "from sklearn.cluster import KMeans\n",
    "n_clusters = 3\n",
    "kmeans = KMeans(n_clusters=n_clusters, random_state=42)\n",
    "kmeans.fit(X)\n",
    "df['cluster'] = kmeans.labels_\n",
    "df['cluster'].value_counts()"
   ]
  },
  {
   "cell_type": "code",
   "execution_count": null,
   "id": "0a9682d5",
   "metadata": {},
   "outputs": [],
   "source": [
    "# Top kata di tiap cluster\n",
    "terms = tfidf.get_feature_names_out()\n",
    "for i in range(n_clusters):\n",
    "    print(f\"\\nTop kata di cluster {i}:\")\n",
    "    center = kmeans.cluster_centers_[i]\n",
    "    top_indices = center.argsort()[-10:][::-1]\n",
    "    print(\", \".join([terms[ind] for ind in top_indices]))"
   ]
  },
  {
   "cell_type": "code",
   "execution_count": null,
   "id": "f8c5af4e",
   "metadata": {},
   "outputs": [],
   "source": [
    "# Contoh komentar tiap cluster\n",
    "for i in range(n_clusters):\n",
    "    print(f\"\\nContoh komentar di Cluster {i}:\")\n",
    "    print(df[df['cluster'] == i]['content'].sample(3, random_state=1).to_string(index=False))"
   ]
  },
  {
   "cell_type": "code",
   "execution_count": null,
   "id": "c4263338",
   "metadata": {},
   "outputs": [],
   "source": [
    "# Tambah label manual berdasarkan topik\n",
    "cluster_labels = {\n",
    "    0: \"Keluhan Bug\",\n",
    "    1: \"Pujian Gameplay\",\n",
    "    2: \"Masalah Akun\"\n",
    "}\n",
    "\n",
    "df['cluster_label'] = df['cluster'].map(cluster_labels)\n",
    "df[['content', 'cluster', 'cluster_label']].head()"
   ]
  },
  {
   "cell_type": "code",
   "execution_count": null,
   "id": "ed92ea33",
   "metadata": {},
   "outputs": [],
   "source": [
    "# Visualisasi cluster dengan PCA\n",
    "from sklearn.decomposition import PCA\n",
    "\n",
    "X_pca = PCA(n_components=2).fit_transform(X.toarray())\n",
    "\n",
    "plt.figure(figsize=(8, 6))\n",
    "scatter = plt.scatter(X_pca[:, 0], X_pca[:, 1], c=df['cluster'], cmap='viridis')\n",
    "plt.legend(*scatter.legend_elements(), title=\"Cluster\")\n",
    "plt.title(\"Visualisasi Clustering Komentar\")\n",
    "plt.xlabel(\"PCA 1\")\n",
    "plt.ylabel(\"PCA 2\")\n",
    "plt.show()"
   ]
  }
 ],
 "metadata": {},
 "nbformat": 4,
 "nbformat_minor": 5
}
